{
  "nbformat": 4,
  "nbformat_minor": 0,
  "metadata": {
    "colab": {
      "provenance": [],
      "authorship_tag": "ABX9TyP/TsYvg9pv5iwlx2+39Zko",
      "include_colab_link": true
    },
    "kernelspec": {
      "name": "python3",
      "display_name": "Python 3"
    },
    "language_info": {
      "name": "python"
    }
  },
  "cells": [
    {
      "cell_type": "markdown",
      "metadata": {
        "id": "view-in-github",
        "colab_type": "text"
      },
      "source": [
        "<a href=\"https://colab.research.google.com/github/SouvikChakraborty472/Computer_Programming_with_Python/blob/main/Data_Structure_%26_Algorithms.ipynb\" target=\"_parent\"><img src=\"https://colab.research.google.com/assets/colab-badge.svg\" alt=\"Open In Colab\"/></a>"
      ]
    },
    {
      "cell_type": "markdown",
      "source": [
        "#**Data Structure & Algorithms**"
      ],
      "metadata": {
        "id": "mkzXsIbYNhBz"
      }
    },
    {
      "cell_type": "markdown",
      "source": [
        "Data: -\n",
        "In the context of computer science and information technology, \"data\" refers to raw facts, figures, or information that are collected, stored, processed, and used to support various functions and tasks. Data can take many forms and can represent a wide range of information.\n",
        "\n",
        "Information: -\n",
        "Information refers to processed, organized, and meaningful data that has been analyzed and structured in a way that adds value and context. It is data that has been interpreted, understood, and is useful for decision-making or understanding a particular context."
      ],
      "metadata": {
        "id": "MFsqU4zVN9SX"
      }
    },
    {
      "cell_type": "markdown",
      "source": [
        "Data Structure: -\n",
        "A data structure is a fundamental concept in computer science and programming that refers to a way of organizing, storing, and managing data to facilitate efficient operations and access. Data structures provide a way to structure and organize data elements and enable various data manipulation and retrieval operations. They serve as the building blocks for designing and implementing algorithms and solving specific computational problems. Data structures are essential for optimizing the use of computer memory and improving the efficiency of data processing.\n",
        "\n",
        "Abstract Data Type: - An Abstract Data Type (ADT) is a high-level and abstract concept in computer science that defines a data structure's behavior in terms of the operations that can be performed on it, without specifying the underlying implementation details. It is a mathematical model or a set of rules that govern the behavior of a data structure, independent of any specific programming language or hardware."
      ],
      "metadata": {
        "id": "30HQsnEyuiDk"
      }
    },
    {
      "cell_type": "markdown",
      "source": [
        "#**Types of Data Structure**\n",
        "\n",
        "Data structures can be categorized based on different criteria such as organization, behavior, and accessibility. Here are explanations for the terms you mentioned:\n",
        "\n",
        "1. **Linear Data Structure:**\n",
        "   - In a linear data structure, elements are arranged in a linear or sequential order.\n",
        "   - Elements follow a specific order, and each element has a unique predecessor and successor, except for the first and last elements.\n",
        "   - Examples include arrays, linked lists, queues, and stacks.\n",
        "\n",
        "2. **Static Data Structure:**\n",
        "   - A static data structure has a fixed size, and its size does not change during the program's execution.\n",
        "   - Memory is allocated at compile-time, and it remains constant throughout the program.\n",
        "   - Arrays are an example of a static data structure.\n",
        "\n",
        "3. **Non-Static (Dynamic) Data Structure:**\n",
        "   - A non-static or dynamic data structure can grow or shrink in size during the program's execution.\n",
        "   - Memory is allocated or deallocated at run-time, allowing for flexibility in managing data.\n",
        "   - Examples include linked lists, trees, and dynamic arrays (e.g., ArrayList in Java).\n",
        "\n",
        "4. **Non-Linear Data Structure:**\n",
        "   - In a non-linear data structure, elements are not arranged in a sequential manner.\n",
        "   - Elements may have more than one predecessor and successor, forming a hierarchical or interconnected structure.\n",
        "   - Examples include trees and graphs.\n",
        "   - Trees have a hierarchical structure with a root node and branches, while graphs allow arbitrary connections between nodes.\n",
        "\n",
        "**Examples:**\n",
        "- An array is a linear and static data structure.\n",
        "- A linked list is a linear and dynamic (non-static) data structure.\n",
        "- A tree is a non-linear and hierarchical data structure.\n",
        "- A graph is a non-linear and interconnected data structure.\n",
        "\n",
        "Understanding these classifications helps in choosing the appropriate data structure based on the requirements of a specific algorithm or problem. Each type of data structure has its advantages and is suitable for solving particular types of problems."
      ],
      "metadata": {
        "id": "YSoi_cw4xNj_"
      }
    },
    {
      "cell_type": "markdown",
      "source": [
        "#**What is efficiency in terms of Data Strucuture**\n",
        "\n",
        "Efficiency in the context of data structures refers to how well a data structure performs in terms of time and space when handling various operations such as insertion, deletion, search, and traversal. The efficiency of a data structure is critical in determining the speed and resource usage of algorithms that utilize that structure. It's commonly assessed based on two primary factors:\n",
        "\n",
        "#### Time Complexity:\n",
        "- **Time complexity** measures the amount of time an algorithm or operation takes to execute as a function of the input size.\n",
        "- Different data structures have varying time complexities for common operations. For example:\n",
        "  - Searching in an array (unsorted) takes O(n) time on average, whereas searching in a balanced binary search tree takes O(log n) time.\n",
        "  - Insertion at the end of an array takes O(1) time, while insertion in a sorted array takes O(n) time due to shifting elements.\n",
        "\n",
        "#### Space Complexity:\n",
        "- **Space complexity** refers to the amount of memory (space) an algorithm or data structure uses as a function of the input size.\n",
        "- Data structures might have different space complexities for storing elements. For instance:\n",
        "  - Arrays have a space complexity of O(n) because they allocate memory proportional to the number of elements.\n",
        "  - Linked lists might have a space complexity of O(n) for storing the elements themselves plus additional space for pointers/references.\n",
        "\n",
        "Efficiency considerations are crucial in designing algorithms and systems, especially when dealing with large-scale applications or time-critical tasks. A thorough understanding of data structure efficiency helps in making informed choices for optimal algorithmic performance."
      ],
      "metadata": {
        "id": "xYmVUO7IGDq4"
      }
    },
    {
      "cell_type": "markdown",
      "source": [
        "**What is Asymtotic Complexitiy**\n",
        "\n",
        "Asymptotic complexity refers to the computational complexity of an algorithm as the input size approaches infinity. It provides a simplified representation of an algorithm's efficiency by focusing on its growth rate relative to the input size. Asymptotic complexity is expressed using Big O notation, denoted as O(f(n)), where 'f(n)' describes the upper bound on the algorithm's time or space requirements as a function of the input size 'n'.\n"
      ],
      "metadata": {
        "id": "adFHL2yvpwjw"
      }
    },
    {
      "cell_type": "markdown",
      "source": [
        "**What is Big O notation?**\n",
        "\n",
        "Big O notation is a mathematical notation used in computer science to describe the upper bound or worst-case scenario of the time or space complexity of an algorithm as the input size grows. It provides a standardized way to express the efficiency of algorithms in terms of their scalability.\n",
        "\n",
        "# Key Points:\n",
        "\n",
        "1. **Purpose:** Big O notation helps in understanding how an algorithm's execution time or space requirements grow relative to the input size.\n",
        "\n",
        "2. **Representation:** Denoted as O(f(n)), where 'f(n)' represents the function that describes the upper limit on the algorithm's performance concerning the input size 'n'.\n",
        "\n",
        "### Examples:\n",
        "\n",
        "1. **O(1) - Constant Time Complexity:**\n",
        "   - Example: Retrieving the first element of an array.\n",
        "   - Explanation: The time taken to retrieve an element from an array does not depend on the array's size. It's a constant operation, hence O(1).\n",
        "\n",
        "2. **O(n) - Linear Time Complexity:**\n",
        "   - Example: Finding an element in an unsorted list through linear search.\n",
        "   - Explanation: In linear search, as the list size increases, the time taken to find an element grows linearly. It scales proportionally with 'n', making it O(n).\n",
        "\n",
        "3. **O(log n) - Logarithmic Time Complexity:**\n",
        "   - Example: Binary search in a sorted list.\n",
        "   - Explanation: Binary search divides the search space in half at each step. As the input size doubles, the number of steps increases logarithmically, making it O(log n).\n",
        "\n",
        "4. **O(n^2) - Quadratic Time Complexity:**\n",
        "   - Example: Nested loops iterating through all combinations in a 2D array.\n",
        "   - Explanation: For each 'n' elements in the outer loop, the inner loop also runs 'n' times. As a result, the total number of iterations grows quadratically with 'n', making it O(n^2).\n",
        "\n",
        "5. **O(2^n) - Exponential Time Complexity:**\n",
        "   - Example: Recursive algorithms solving problems through exhaustive enumeration.\n",
        "   - Explanation: As the input size increases by one, the number of recursive calls doubles. This leads to exponential growth in execution time, making it highly inefficient."
      ],
      "metadata": {
        "id": "E96xwUDYdT6g"
      }
    },
    {
      "cell_type": "markdown",
      "source": [
        "#**Arrays**\n",
        "\n",
        "An array is a fundamental data structure in programming used to store elements of the same data type sequentially in memory. It's a collection of items (such as integers, characters, or other data types) arranged in a contiguous block of memory, each element accessible by an index or position.\n",
        "\n",
        "Key characteristics of arrays include:\n",
        "\n",
        "1. **Homogeneity:** All elements in an array are of the same data type.\n",
        "2. **Fixed Size:** Arrays typically have a fixed size determined at the time of declaration.\n",
        "3. **Index-Based Access:** Elements in an array are accessed using their index, starting from 0 for the first element.\n",
        "4. **Sequential Storage:** Elements are stored in contiguous memory locations, allowing for efficient access and traversal.\n",
        "5. **Random Access:** Arrays enable direct access to any element using its index, providing O(1) time complexity for access.\n",
        "\n",
        "Arrays are widely used for their efficiency in storing and accessing elements, making them fundamental in various algorithms and data structures.\n",
        "Arrays offer fast and direct access to elements using indices and are quite efficient for various operations. However, they also come with limitations and disadvantages:\n",
        "\n",
        "1. Fixed Size: Traditional arrays in most programming languages have a fixed size that must be declared upfront. Once allocated, the size cannot be changed, leading to potential inefficiencies if more space is needed or wasted space if the array is larger than required.\n",
        "\n",
        "2. Homogenous Type: Array can contain data of a particular data type. It doesn't contains data of diiferent data types."
      ],
      "metadata": {
        "id": "51Ra8eZAFAnN"
      }
    },
    {
      "cell_type": "markdown",
      "source": [
        "#**Referential Array**\n",
        "\n",
        "The term \"Referential Array\" typically refers to an array structure that stores references or pointers to objects rather than the objects themselves. In many programming languages, arrays can contain elements of various data types, including references to other objects or arrays.\n",
        "\n",
        "For instance, in languages like Java or Python, arrays can store references to objects, allowing you to create an array of objects rather than storing the objects directly in the array. Each element of the array holds a reference to an object located elsewhere in memory.\n",
        "\n",
        "For example, in Python:"
      ],
      "metadata": {
        "id": "jGnHPCHiol8f"
      }
    },
    {
      "cell_type": "code",
      "source": [
        "class MyClass:\n",
        "    def __init__(self, val):\n",
        "        self.val = val\n",
        "\n",
        "# Creating objects\n",
        "obj1 = MyClass(10)\n",
        "obj2 = MyClass(20)\n",
        "\n",
        "# Creating an array of object references\n",
        "array_of_references = [obj1, obj2]\n",
        "\n",
        "# Accessing object properties through the array\n",
        "print(array_of_references[0].val)  # Outputs: 10\n",
        "print(array_of_references[1].val)  # Outputs: 20"
      ],
      "metadata": {
        "colab": {
          "base_uri": "https://localhost:8080/"
        },
        "id": "M7gXXPfYG1zZ",
        "outputId": "66c83cf0-1ea1-4618-f620-f0c8e546a34e"
      },
      "execution_count": null,
      "outputs": [
        {
          "output_type": "stream",
          "name": "stdout",
          "text": [
            "10\n",
            "20\n"
          ]
        }
      ]
    },
    {
      "cell_type": "markdown",
      "source": [
        "#**Dynamic Array**\n",
        "\n",
        "Dynamic arrays, also known as resizable arrays or ArrayLists in some programming languages, are data structures that provide a flexible way of managing arrays by dynamically resizing them as needed. Unlike traditional static arrays, dynamic arrays can change in size during runtime, allowing elements to be added or removed without needing to allocate a new array.\n",
        "\n",
        "The key features of dynamic arrays include:\n",
        "\n",
        "1. **Dynamic Resizing:** Dynamic arrays automatically resize themselves by allocating a new, larger array and copying existing elements into it when the current capacity is exceeded. This resizing process is usually transparent to the user.\n",
        "\n",
        "2. **Continuous Memory Allocation:** Dynamic arrays typically allocate memory in a contiguous block, similar to traditional arrays, which allows for efficient access to elements using indexing.\n",
        "\n",
        "3. **Amortized Constant Time for Appends:** While individual append operations might occasionally trigger a resizing (which takes O(n) time), on average, the time complexity for appending an element to a dynamic array is considered O(1).\n",
        "\n",
        "4. **Random Access:** Dynamic arrays support random access to elements using indexing, similar to static arrays.\n",
        "\n",
        "5. **Variable Size:** They do not have a fixed size limit, allowing them to grow or shrink based on the number of elements they hold.\n",
        "\n",
        "For example, in languages like Python or Java, lists or ArrayLists are implementations of dynamic arrays, offering the ability to add, remove, or modify elements efficiently without worrying about managing memory allocation explicitly."
      ],
      "metadata": {
        "id": "sQ8lCjwTgyfP"
      }
    },
    {
      "cell_type": "code",
      "source": [
        "# prompt: Create a dynamic array in python\n",
        "\n",
        "import ctypes"
      ],
      "metadata": {
        "id": "LcZBDw_GhFnI"
      },
      "execution_count": null,
      "outputs": []
    },
    {
      "cell_type": "code",
      "source": [
        "class meraArray:\n",
        "    def __init__(self):\n",
        "        self.size = 1\n",
        "        self.n = 0\n",
        "        self.A = self.createArray(self.size)\n",
        "\n",
        "    def __len__(self):\n",
        "        return self.n\n",
        "\n",
        "    def append(self, item):\n",
        "        if self.size == self.n:\n",
        "            self.resize(self.size*2)\n",
        "        self.A[self.n] = item\n",
        "        self.n += 1\n",
        "\n",
        "    def resize(self, new_capacity):\n",
        "        B = self.createArray(new_capacity)\n",
        "        self.size = new_capacity\n",
        "\n",
        "        for i in range(self.n):\n",
        "            B[i] = self.A[i]\n",
        "        self.A = B\n",
        "\n",
        "\n",
        "    def createArray(self, capacity):\n",
        "        return (capacity*ctypes.py_object)()"
      ],
      "metadata": {
        "id": "uCo4Nzb3IVWu"
      },
      "execution_count": null,
      "outputs": []
    },
    {
      "cell_type": "code",
      "source": [
        "L = meraArray()"
      ],
      "metadata": {
        "id": "jxRAUESlMANR"
      },
      "execution_count": null,
      "outputs": []
    },
    {
      "cell_type": "code",
      "source": [
        "L.append(\"Hello\")\n",
        "L.append(1)\n",
        "L.append(3.4)\n",
        "L.append(True)"
      ],
      "metadata": {
        "id": "jpgSvfa1SXcb"
      },
      "execution_count": null,
      "outputs": []
    },
    {
      "cell_type": "code",
      "source": [
        "len(L)"
      ],
      "metadata": {
        "colab": {
          "base_uri": "https://localhost:8080/"
        },
        "id": "JHBTsQevM721",
        "outputId": "79260f95-a668-4b06-a63e-3078d6cb1068"
      },
      "execution_count": null,
      "outputs": [
        {
          "output_type": "execute_result",
          "data": {
            "text/plain": [
              "4"
            ]
          },
          "metadata": {},
          "execution_count": 10
        }
      ]
    },
    {
      "cell_type": "markdown",
      "source": [
        "#Linked List\n",
        "\n",
        "A linked list is a linear data structure consisting of a sequence of elements, where each element points to the next one in the sequence. Unlike arrays, linked lists do not have a fixed size, and their elements, known as nodes, are not stored at contiguous memory locations. Instead, each node contains data and a reference (or link) to the next node in the sequence.\n",
        "\n",
        "Key components of a linked list include:\n",
        "\n",
        "1. **Node:** Each element in the linked list is represented by a node, which contains data and a reference to the next node.\n",
        "\n",
        "2. **Head:** The starting point or the first node in the linked list is called the head.\n",
        "\n",
        "3. **Tail:** The last node in the linked list, whose reference is usually set to null or points to a special marker indicating the end."
      ],
      "metadata": {
        "id": "BshP3-n2821S"
      }
    },
    {
      "cell_type": "code",
      "source": [
        "class Node:\n",
        "    def __init__(self, value):\n",
        "        #creating data and next variable\n",
        "        self.data = value\n",
        "        self.next = None\n",
        "\n",
        "class linkedlist:\n",
        "    def __init__(self):\n",
        "        #Empty linkedlist\n",
        "        self.head = None\n",
        "        self.n = 0\n",
        "\n",
        "    def __len__(self):\n",
        "        return self.n\n",
        "\n",
        "    def insert_head(self, value):\n",
        "        #new node\n",
        "        new_node = Node(value)\n",
        "        #create connection\n",
        "        new_node.next = self.head\n",
        "        self.head = new_node\n",
        "        #increment n\n",
        "        self.n += 1\n",
        "\n",
        "    def __str__(self):\n",
        "        curr = self.head\n",
        "        result = ''\n",
        "        while curr != None:\n",
        "            result = result + str(curr.data) + '->'\n",
        "            curr = curr.next\n",
        "\n",
        "        return result[:-2]\n",
        "\n",
        "    def append(self, value):\n",
        "        new_node = Node(value)\n",
        "        if self.head == None:\n",
        "            self.hesd = new_node\n",
        "            self.n += 1\n",
        "            return\n",
        "\n",
        "        curr = self.head\n",
        "        while curr.next != None:\n",
        "            curr = curr.next\n",
        "\n",
        "        curr.next = new_node\n",
        "        self.n += 1\n",
        "\n",
        "    def insert_after(self,after,value):\n",
        "        new_node = Node(value)\n",
        "        curr = self.head\n",
        "        while curr != None:\n",
        "            if curr.data == after:\n",
        "                break\n",
        "            curr = curr.next\n",
        "\n",
        "        if curr != None:\n",
        "            new_node.next = curr.next\n",
        "            curr.next = new_node\n",
        "            self.n += 1\n",
        "        else:\n",
        "            return 'Item not found'\n",
        "\n",
        "    def clear(self):\n",
        "        self.head = None\n",
        "        self.n = 0\n",
        "\n",
        "    def delete_head(self):\n",
        "        if self.head == None:\n",
        "            return 'Empty LinkedList'\n",
        "        self.head = self.head.next\n",
        "        self.n -= 1\n",
        "\n",
        "    def pop(self):\n",
        "        if self.head == None:\n",
        "            return 'Empty LinkedList'\n",
        "        curr = self.head\n",
        "        if self.n == 1:\n",
        "            return self.delete_head()\n",
        "        while curr.next.next != None:\n",
        "            curr = curr.next\n",
        "        curr.next = None\n",
        "        self.n -= 1\n",
        "\n",
        "    def remove(self,value):\n",
        "        if self.head == None:\n",
        "            return 'Empty LinkedList'\n",
        "\n",
        "        if self.head.data == value:\n",
        "            return self.delete_head()\n",
        "\n",
        "        curr = self.head\n",
        "        while curr.next != None:\n",
        "            if curr.next.data == value:\n",
        "                break\n",
        "            curr = curr.next\n",
        "\n",
        "        if curr.next == None:\n",
        "            return 'not found'\n",
        "        else:\n",
        "            curr.next = curr.next.next\n",
        "\n",
        "    def search(self,item):\n",
        "        curr = self.head\n",
        "        pos = 0\n",
        "        while curr != None:\n",
        "            if curr.data == item:\n",
        "                return pos\n",
        "            curr = curr.next\n",
        "            pos += 1\n",
        "        return 'item not found'\n",
        "\n",
        "    def __getitem__(self,index):\n",
        "        curr = self.head\n",
        "        pos = 0\n",
        "        while curr != None:\n",
        "            if pos == index:\n",
        "                return curr.data\n",
        "            curr = curr.next\n",
        "            pos += 1\n",
        "\n",
        "        return 'IndexError'\n"
      ],
      "metadata": {
        "id": "8uos0Zzt9_Hj"
      },
      "execution_count": null,
      "outputs": []
    },
    {
      "cell_type": "code",
      "source": [
        "L = linkedlist()\n",
        "L.insert_head(1)\n",
        "L.insert_head(2)\n",
        "L.insert_head(3)\n",
        "L.insert_head(4)\n",
        "print(L)\n",
        "L.remove()\n",
        "print(L)"
      ],
      "metadata": {
        "id": "QWcs71r8-FTp"
      },
      "execution_count": null,
      "outputs": []
    },
    {
      "cell_type": "markdown",
      "source": [
        "#Doubly Linked List\n",
        "\n",
        "A doubly linked list is a type of linked list in which each node contains a data element and two pointers, one pointing to the next node in the sequence (next pointer) and another pointing to the previous node (previous pointer). This structure allows for bidirectional traversal, meaning you can navigate the list in both forward and backward directions.\n",
        "\n",
        "Here are the key characteristics of a doubly linked list:\n",
        "\n",
        "1. **Nodes:** Each node in a doubly linked list contains two pointers (next and previous) and a data element.\n",
        "\n",
        "2. **Next Pointer:** Points to the next node in the sequence. In the last node of the list, the next pointer typically points to null to indicate the end.\n",
        "\n",
        "3. **Previous Pointer:** Points to the previous node in the sequence. In the first node of the list, the previous pointer typically points to null to indicate the beginning.\n",
        "\n",
        "4. **Bidirectional Traversal:** Unlike a singly linked list, where you can only traverse forward, a doubly linked list allows you to traverse both forward and backward.\n",
        "\n",
        "The advantage of a doubly linked list over a singly linked list is that it provides more flexibility in terms of traversal, but it comes at the cost of increased storage requirements due to the additional pointer for each node."
      ],
      "metadata": {
        "id": "il2fLR8C-I3h"
      }
    },
    {
      "cell_type": "markdown",
      "source": [
        "#Circular Linked List\n",
        "\n",
        "A Circular Linked List is a type of linked list data structure in which the last node of the list points back to the first node, forming a circle or loop. Unlike a linear linked list, where the last node points to null, a circular linked list allows traversal from any node to any other node in a continuous loop."
      ],
      "metadata": {
        "id": "kmGNQ_t_-sfK"
      }
    },
    {
      "cell_type": "markdown",
      "source": [
        "#Stack\n",
        "\n",
        "A stack is a data structure that follows the Last In, First Out (LIFO) principle, meaning that the last element added to the stack is the first one to be removed. It can be envisioned as a collection of elements with two primary operations:\n",
        "\n",
        "1. **Push:** Adding an element to the top of the stack.\n",
        "2. **Pop:** Removing the top element from the stack.\n",
        "\n",
        "Additionally, there may be an operation to examine the top element without removing it, often called \"Peek\" or \"Top.\"\n",
        "\n",
        "The stack concept is analogous to a stack of plates where you add or remove plates from the top. In programming, stacks are commonly used to manage function calls, store temporary data, and handle expressions and parsing.\n",
        "\n",
        "Key characteristics of a stack:\n",
        "- Operations: Push, Pop, Peek.\n",
        "- LIFO (Last In, First Out) order.\n",
        "- Examples of real-life usage: function call management, undo mechanisms, expression evaluation, etc."
      ],
      "metadata": {
        "id": "6hY5rK-lCtbB"
      }
    },
    {
      "cell_type": "code",
      "source": [
        "class node:\n",
        "\n",
        "    def __init__(self,value):\n",
        "        self.data = value\n",
        "        self.next = None\n",
        "\n",
        "class Stack:\n",
        "\n",
        "    def __init__(self):\n",
        "        self.top = None\n",
        "\n",
        "    def isempty(self):\n",
        "        return self.top == None\n",
        "\n",
        "    def push(self,value):\n",
        "        new_node = node(value)\n",
        "        new_node.next = self.top\n",
        "        self.top = new_node\n",
        "\n",
        "    def traverse(self):\n",
        "        tep = self.top\n",
        "        while tep != None:\n",
        "            print(tep.data)\n",
        "            tep = tep.next\n",
        "\n",
        "    def peek(self):\n",
        "        if (self.isempty()):\n",
        "            return 'Stack Empty'\n",
        "        else:\n",
        "            return self.top.data\n",
        "\n",
        "    def pop(self):\n",
        "        if(self.isempty()):\n",
        "            return 'stack Empty'\n",
        "        else:\n",
        "            self.top = self.top.next"
      ],
      "metadata": {
        "id": "ob9Gqb2ZDjx-"
      },
      "execution_count": null,
      "outputs": []
    },
    {
      "cell_type": "code",
      "source": [
        "s = Stack()\n",
        "s.push(2)\n",
        "s.push(3)\n",
        "s.push(4)\n",
        "s.push(5)\n",
        "s.traverse()\n",
        "\n",
        "s.pop()\n",
        "print(s.peek())"
      ],
      "metadata": {
        "id": "s5RAEeo5Dqk8"
      },
      "execution_count": null,
      "outputs": []
    },
    {
      "cell_type": "markdown",
      "source": [
        "#Queues\n",
        "A queue is a data structure that follows the First-In-First-Out (FIFO) principle, where the first element added to the queue is the first one to be removed. In a queue, elements are added at the rear (enqueue operation) and removed from the front (dequeue operation).\n",
        "\n",
        "Key characteristics of queues include:\n",
        "\n",
        "1. **Enqueue (Insertion):** Adding an element to the rear of the queue.\n",
        "2. **Dequeue (Deletion):** Removing an element from the front of the queue.\n",
        "3. **Front:** The front of the queue is the position where dequeue operations occur.\n",
        "4. **Rear (or Back):** The rear of the queue is the position where enqueue operations occur.\n",
        "5. **Peek or Front Operation:** Viewing the element at the front without removing it.\n",
        "6. **Empty Queue:** A condition where no elements are present in the queue.\n",
        "7. **Full Queue:** A condition where the queue has reached its maximum capacity (in a fixed-size implementation).\n",
        "\n",
        "Queues are widely used in computer science and programming for various applications, including process scheduling, task management, breadth-first search algorithms, and more. They provide an organized way to handle elements in a linear fashion based on their arrival order."
      ],
      "metadata": {
        "id": "65BpbFUaDsRj"
      }
    },
    {
      "cell_type": "code",
      "source": [
        "class Node:\n",
        "    def __init__(self,value):\n",
        "        self.data = value\n",
        "        self.next = None\n",
        "\n",
        "class Queue:\n",
        "    def __init__(self):\n",
        "        self.front = None\n",
        "        self.rear = None\n",
        "\n",
        "    def enqueue(self, value):\n",
        "        new_node = Node(value)\n",
        "        if self.rear == None:\n",
        "            self.front = new_node\n",
        "            self.rear = self.front\n",
        "        else:\n",
        "            self.rear.next = new_node\n",
        "            self.rear =  new_node\n",
        "\n",
        "    def dequeue(self):\n",
        "        if self.front == None:\n",
        "            return 'Empty'\n",
        "        else:\n",
        "            self.front = self.front.next\n",
        "\n",
        "    def traverse(self):\n",
        "        temp = self.front\n",
        "        while temp != None:\n",
        "            print(temp.data)\n",
        "            temp = temp.next\n",
        "\n",
        "    def is_empty(self):\n",
        "        return self.front == None\n",
        "\n",
        "    def size(self):\n",
        "        temp = self.front\n",
        "        counter = 0\n",
        "        while temp != None:\n",
        "            counter += 1\n",
        "            temp = temp.next\n",
        "        return counter\n",
        "\n",
        "    def front_item(self):\n",
        "        if self.front == None:\n",
        "            return 'Empty'\n",
        "        else:\n",
        "            return self.front.data\n",
        "\n",
        "    def rear_item(self):\n",
        "        if self.rear == None:\n",
        "            return 'empty'\n",
        "        else:\n",
        "            return self.rear.data"
      ],
      "metadata": {
        "id": "li6usthxECjS"
      },
      "execution_count": null,
      "outputs": []
    },
    {
      "cell_type": "code",
      "source": [
        "q = Queue()\n",
        "q.enqueue(4)\n",
        "q.enqueue(5)\n",
        "q.enqueue(7)\n",
        "q.traverse()\n",
        "q.dequeue()\n",
        "q.traverse()"
      ],
      "metadata": {
        "id": "mqF8cikgEMbq"
      },
      "execution_count": null,
      "outputs": []
    },
    {
      "cell_type": "markdown",
      "source": [
        "#**Linear Search**\n",
        "\n",
        "Linear search, also known as sequential search, is a straightforward searching algorithm that checks every element in a list or array one by one until the desired element is found or the end of the list is reached. It starts from the beginning of the data structure and compares each element with the target value being searched for. If the target value is found, the search terminates; otherwise, it continues until all elements have been examined. Linear search is simple to implement but may not be efficient for large datasets compared to more advanced search algorithms like binary search.\n",
        "\n",
        "**Example**"
      ],
      "metadata": {
        "id": "aFloZycdy624"
      }
    },
    {
      "cell_type": "code",
      "source": [
        "def linear_search(arr, target):\n",
        "    for i in range(len(arr)):\n",
        "        if arr[i] == target:\n",
        "            return i  # Return the index of the target element if found\n",
        "    return -1  # Return -1 if the target element is not found in the array\n",
        "\n",
        "# Example usage:\n",
        "arr = [3, 5, 2, 8, 9, 1]\n",
        "target = 8\n",
        "result = linear_search(arr, target)\n",
        "if result != -1:\n",
        "    print(f\"Target element {target} found at index {result}.\")\n",
        "else:\n",
        "    print(f\"Target element {target} not found in the array.\")\n"
      ],
      "metadata": {
        "id": "EjLOASrL-Ukr"
      },
      "execution_count": null,
      "outputs": []
    },
    {
      "cell_type": "markdown",
      "source": [
        "In this example, the `linear_search` function takes an array (`arr`) and a target value (`target`) as input parameters. It iterates through the array using a `for` loop, comparing each element with the target value. If the target value is found, it returns the index of that element; otherwise, it returns -1 to indicate that the target element is not present in the array. Finally, the example demonstrates how to use the `linear_search` function with a sample array and target value."
      ],
      "metadata": {
        "id": "s8Xyk7FA-YVV"
      }
    },
    {
      "cell_type": "markdown",
      "source": [
        "#**Binary Search**\n",
        "\n",
        "Binary search is a searching algorithm used to find the position of a target value within a sorted array or list. It works by repeatedly dividing the search interval in half, comparing the target value with the middle element of the interval, and then narrowing down the search to the half where the target may lie. This process continues until the target value is found or the search interval is empty, indicating that the target value is not present in the array. Binary search is efficient, with a time complexity of O(log n), where n is the number of elements in the array. However, it requires the array to be sorted beforehand.\n",
        "\n",
        "**Example**"
      ],
      "metadata": {
        "id": "iyYDlWdh-ec4"
      }
    },
    {
      "cell_type": "code",
      "source": [
        "def binary_search(arr, target):\n",
        "    left = 0\n",
        "    right = len(arr) - 1\n",
        "\n",
        "    while left <= right:\n",
        "        mid = (left + right) // 2\n",
        "        if arr[mid] == target:\n",
        "            return mid\n",
        "        elif arr[mid] < target:\n",
        "            left = mid + 1\n",
        "        else:\n",
        "            right = mid - 1\n",
        "\n",
        "    return -1\n",
        "\n",
        "# Example usage:\n",
        "arr = [1, 3, 5, 7, 9, 11, 13, 15]\n",
        "target = 11\n",
        "result = binary_search(arr, target)\n",
        "if result != -1:\n",
        "    print(f\"Element {target} found at index {result}\")\n",
        "else:\n",
        "    print(f\"Element {target} not found in the array\")"
      ],
      "metadata": {
        "id": "XoYidzhW_CZO"
      },
      "execution_count": null,
      "outputs": []
    },
    {
      "cell_type": "markdown",
      "source": [
        "This function `binary_search` takes a sorted array `arr` and a target value `target` as input. It iteratively divides the search interval in half until the target value is found or the interval becomes empty. If the target value is found, it returns the index of the target value in the array; otherwise, it returns -1 indicating that the target value is not present in the array."
      ],
      "metadata": {
        "id": "thT4SoXBCPRM"
      }
    },
    {
      "cell_type": "markdown",
      "source": [
        "**Difference between linear & binary search**\n",
        "\n",
        "Linear search and binary search are both searching algorithms used to find a target element within a collection of elements, but they differ in their approach and efficiency.\n",
        "\n",
        "1. **Approach**:\n",
        "   - Linear search: Involves iterating through each element in the collection sequentially, starting from the beginning, until the target element is found or the end of the collection is reached.\n",
        "   - Binary search: Involves dividing the search interval in half repeatedly, based on a comparison with the middle element of the interval, until the target element is found or the interval becomes empty.\n",
        "\n",
        "2. **Efficiency**:\n",
        "   - Linear search: Has a time complexity of O(n), where n is the number of elements in the collection. It performs linear probing, meaning it checks each element in the worst case.\n",
        "   - Binary search: Has a time complexity of O(log n), where n is the number of elements in the collection. It performs exponential probing, cutting the search space in half with each iteration, which results in a much faster search for sorted collections.\n",
        "\n",
        "3. **Requirement**:\n",
        "   - Linear search: Can be applied to both sorted and unsorted collections.\n",
        "   - Binary search: Requires the collection to be sorted beforehand. It efficiently searches sorted collections but is not applicable to unsorted ones.\n",
        "\n",
        "4. **Use cases**:\n",
        "   - Linear search: Suitable for small collections or when the collection is not sorted. It's also useful when the elements are stored in a way that does not allow efficient random access, such as linked lists.\n",
        "   - Binary search: Ideal for large sorted collections where efficiency is critical. It's commonly used in scenarios like searching in sorted arrays or lists.\n",
        "\n",
        "In summary, the main differences between linear and binary search lie in their approach to searching, efficiency, requirements, and ideal use cases. Binary search is generally much faster than linear search for large sorted collections, but it requires the collection to be sorted beforehand."
      ],
      "metadata": {
        "id": "jaDCiTPsCUx9"
      }
    },
    {
      "cell_type": "markdown",
      "source": [
        "#**Trees**\n",
        "\n",
        "**Basic Terminologies**\n",
        "\n",
        "Basic tree terminologies include:\n",
        "\n",
        "1. **Node**: A fundamental unit of a tree data structure that contains a value and may have a link to other nodes, known as child nodes.\n",
        "\n",
        "2. **Root**: The topmost node in a tree structure. It's the starting point for traversing or accessing the tree. A tree can have only one root node.\n",
        "\n",
        "3. **Parent**: A node that has one or more child nodes connected to it.\n",
        "\n",
        "4. **Child**: A node that is linked to its parent node.\n",
        "\n",
        "5. **Siblings**: Nodes that share the same parent node.\n",
        "\n",
        "6. **Leaf**: A node that has no children, i.e., it is at the end of a branch in the tree.\n",
        "\n",
        "7. **Depth**: The depth of a node refers to the length of the path from the root to that node. The depth of the root node is 0.\n",
        "\n",
        "8. **Height**: The height of a node is the length of the longest path from that node to a leaf node. The height of a tree is the height of its root node.\n",
        "\n",
        "9. **Subtree**: A subtree is a tree structure that consists of a node and all of its descendants, including the node itself.\n",
        "\n",
        "10. **Binary Tree**: A tree in which each node has at most two children, typically referred to as the left child and the right child.\n",
        "\n",
        "11. **Binary Search Tree (BST)**: A binary tree in which the left child of a node contains only values less than the node's value, and the right child contains only values greater than the node's value.\n",
        "\n",
        "12. **Traversal**: The process of visiting all the nodes of a tree in a specific order. Common traversal methods include in-order, pre-order, and post-order traversals.\n",
        "\n",
        "These are some of the fundamental terminologies used when describing tree structures and operations. Understanding these terms is essential for working with trees in computer science and programming."
      ],
      "metadata": {
        "id": "K-s_D1g8ESEY"
      }
    },
    {
      "cell_type": "markdown",
      "source": [
        "**Types of trees**\n",
        "\n",
        "In data structures and algorithms (DSA), there are various types of trees, each with its own characteristics and applications. Some of the common types of trees in DSA include:\n",
        "\n",
        "1. **Binary Tree**: A tree in which each node has at most two children, typically referred to as the left child and the right child.\n",
        "\n",
        "2. **Binary Search Tree (BST)**: A binary tree in which the left child of a node contains only values less than the node's value, and the right child contains only values greater than the node's value. BSTs are often used for fast searching and insertion of elements.\n",
        "\n",
        "3. **AVL Tree**: A self-balancing binary search tree in which the heights of the two child subtrees of any node differ by at most one. AVL trees maintain balance during insertions and deletions, ensuring efficient search, insertion, and deletion operations.\n",
        "\n",
        "These are some of the common types of trees used in DSA. Each type has its own set of characteristics, advantages, and applications, making them suitable for various problem-solving scenarios. Understanding the properties and operations of these tree types is essential for designing efficient algorithms and data structures."
      ],
      "metadata": {
        "id": "wpkBAIdn6x7v"
      }
    },
    {
      "cell_type": "markdown",
      "source": [
        "**Traversal techniques**\n",
        "\n",
        "Postorder, inorder, and preorder traversal are three common methods for visiting all the nodes of a binary tree. Here's a brief explanation of each:\n",
        "\n",
        "1. **Preorder Traversal**:\n",
        "   - In preorder traversal, the nodes are visited in the order: root, left subtree, right subtree.\n",
        "   - This means that the root node is visited first, then the left subtree is recursively traversed in preorder, followed by the right subtree recursively traversed in preorder.\n",
        "   - Preorder traversal is often used to create a copy of the tree, as well as for certain types of expression evaluation.\n",
        "   \n",
        "2. **Inorder Traversal**:\n",
        "   - In inorder traversal, the nodes are visited in the order: left subtree, root, right subtree.\n",
        "   - This means that the left subtree is recursively traversed in inorder, followed by visiting the root node, and then the right subtree is recursively traversed in inorder.\n",
        "   - Inorder traversal results in visiting the nodes in sorted order when applied to a binary search tree (BST). It's commonly used to print the nodes of a BST in sorted order.\n",
        "   \n",
        "3. **Postorder Traversal**:\n",
        "   - In postorder traversal, the nodes are visited in the order: left subtree, right subtree, root.\n",
        "   - This means that the left subtree is recursively traversed in postorder, followed by recursively traversing the right subtree in postorder, and finally visiting the root node.\n",
        "   - Postorder traversal is often used to delete the nodes of a tree, as well as for certain types of expression evaluation.\n",
        "\n",
        "These traversal methods are recursive algorithms, but they can also be implemented iteratively using stacks. Each traversal method produces a different ordering of the nodes and has its own set of applications depending on the problem being solved."
      ],
      "metadata": {
        "id": "qaO-wXJmWdQq"
      }
    },
    {
      "cell_type": "markdown",
      "source": [
        "**Binary Tree**\n",
        "\n",
        "A binary tree is a hierarchical data structure composed of nodes, where each node has at most two children, referred to as the left child and the right child. The topmost node of the tree is called the root.\n",
        "\n",
        "In a binary tree:\n",
        "- Each node contains a value or a key and may optionally have links to its left and/or right children.\n",
        "- If a node has no children, it is called a leaf node or a terminal node.\n",
        "- Binary trees can be empty, consisting of no nodes, or they can be non-empty with at least one node (the root).\n",
        "- The children of a node are ordered, meaning that there is a specific left child and a specific right child for each node.\n",
        "\n",
        "Binary trees are used in various applications such as representing hierarchical data structures (like file systems), implementing binary search trees (BSTs) for efficient searching, as well as in expression trees for representing mathematical expressions. They serve as a fundamental building block in computer science and are widely used in algorithm design and implementation."
      ],
      "metadata": {
        "id": "qg0otwJ3WBfy"
      }
    },
    {
      "cell_type": "markdown",
      "source": [
        "**Binary Search Tree**\n",
        "\n",
        "A Binary Search Tree (BST) is a binary tree data structure in which each node has at most two children, referred to as the left child and the right child. In a BST, the key or value of each node is such that the key of the left child is less than the key of its parent, and the key of the right child is greater than the key of its parent.\n",
        "\n",
        "Formally, for every node \\( n \\) in a BST:\n",
        "\n",
        "- All nodes in the left subtree of \\( n \\) have keys less than \\( n \\)'s key.\n",
        "- All nodes in the right subtree of \\( n \\) have keys greater than \\( n \\)'s key.\n",
        "\n",
        "This property allows for efficient searching, insertion, and deletion operations. Searching in a BST typically has a time complexity of \\( O(\\log n) \\), where \\( n \\) is the number of nodes in the tree, assuming the tree is balanced. However, in the worst-case scenario (e.g., if the tree is highly unbalanced), searching may degrade to \\( O(n) \\).\n",
        "\n",
        "Binary Search Trees are commonly used in computer science and programming due to their efficient search capabilities and simple structure. They are used in various applications such as database indexing, symbol tables, and implementing dynamic sets and maps."
      ],
      "metadata": {
        "id": "0ZP_By9yWxqr"
      }
    },
    {
      "cell_type": "markdown",
      "source": [
        "**AVL Tree**\n",
        "\n",
        "An AVL tree is a self-balancing binary search tree named after its inventors Adelson-Velsky and Landis. In an AVL tree, the heights of the two child subtrees of any node differ by at most one. This property, known as the AVL property or balance property, ensures that the tree remains balanced, preventing it from becoming skewed or degenerating into a linked list, which would degrade search, insertion, and deletion operations to O(n) time complexity.\n",
        "\n",
        "To maintain balance, AVL trees perform rotations, which are specific restructuring operations applied to nodes in the tree. These rotations include single rotations (left or right) and double rotations (left-right or right-left), and they are performed during insertion and deletion operations to restore the AVL property while preserving the order of elements in the tree.\n",
        "\n",
        "The AVL tree's self-balancing property guarantees that the height of the tree is O(log n), where n is the number of nodes in the tree. As a result, AVL trees provide efficient search, insertion, and deletion operations, all of which have a time complexity of O(log n).\n",
        "\n",
        "Due to their balance-maintaining mechanism, AVL trees are commonly used in applications where maintaining a balanced tree structure is crucial, such as database indexing, dynamic sets, and other scenarios where efficient search and modification operations are required."
      ],
      "metadata": {
        "id": "L8ky3oO5p8tH"
      }
    },
    {
      "cell_type": "markdown",
      "source": [],
      "metadata": {
        "id": "CbQQ69dlrg4n"
      }
    }
  ]
}